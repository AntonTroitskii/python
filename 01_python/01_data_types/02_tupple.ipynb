{
 "cells": [
  {
   "cell_type": "code",
   "execution_count": null,
   "metadata": {},
   "outputs": [],
   "source": [
    "# Можно менять данные в tuple, если элементы кортежа являются изменяемыми типам. \n",
    "\n",
    "\n",
    "a = (100, 200, 300)\n",
    "b = a[0]\n",
    "print(a, b)\n",
    "print('b = a[0]')\n",
    "print('id(b) == id(a[0])', id(b) == id(a[0]))\n",
    "print('b = 0')\n",
    "b = 0\n",
    "print('id(b) == id(a[0])', id(b) == id(a[0]))\n",
    "print()\n",
    "\n",
    "a = ([0], 200, 300)\n",
    "b = a[0]\n",
    "print(a, b)\n",
    "print('b = a[0]')\n",
    "print('id(b) == id(a[0])', id(b) == id(a[0]))\n",
    "print('b = 0')\n",
    "b[0] = 1\n",
    "print('id(b) == id(a[0])', id(b) == id(a[0]))\n",
    "print(a, b)\n"
   ]
  },
  {
   "cell_type": "code",
   "execution_count": null,
   "metadata": {},
   "outputs": [],
   "source": []
  }
 ],
 "metadata": {
  "language_info": {
   "name": "python"
  },
  "orig_nbformat": 4
 },
 "nbformat": 4,
 "nbformat_minor": 2
}
