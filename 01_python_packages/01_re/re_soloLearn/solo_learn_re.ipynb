{
 "nbformat": 4,
 "nbformat_minor": 2,
 "metadata": {
  "language_info": {
   "name": "python",
   "codemirror_mode": {
    "name": "ipython",
    "version": 3
   },
   "version": "3.7.5-final"
  },
  "orig_nbformat": 2,
  "file_extension": ".py",
  "mimetype": "text/x-python",
  "name": "python",
  "npconvert_exporter": "python",
  "pygments_lexer": "ipython3",
  "version": 3,
  "kernelspec": {
   "name": "python3",
   "display_name": "Python 3"
  }
 },
 "cells": [
  {
   "cell_type": "code",
   "execution_count": 128,
   "metadata": {},
   "outputs": [
    {
     "output_type": "stream",
     "name": "stdout",
     "text": "Match\n"
    }
   ],
   "source": [
    "# Regular expressions in Python can be accessed using the re module, which is part of the standard library. After you've defined a regular expression, the re.match function can be used to determine whether it matches at the beginning of a string. If it does, match returns an object representing the match, if not, it returns None. To avoid any confusion while working with regular expressions, we would use raw strings as r\"expression\". Raw strings don't escape anything, which makes use of regular expressions easier.\n",
    "\n",
    "# Example:\n",
    "\n",
    "import re\n",
    "\n",
    "pattern = r\"spam\"\n",
    "\n",
    "if re.match(pattern, \"spamspamspam\"):\n",
    "   print(\"Match\")\n",
    "else:\n",
    "   print(\"No match\")\n",
    "\n",
    "# The above example checks if the pattern \"spam\" matches the string and prints \"Match\" if it does.\n",
    "# Here the pattern is a simple word, but there are various characters, which would have special meaning when they are used in a regular expression."
   ]
  },
  {
   "cell_type": "code",
   "execution_count": 130,
   "metadata": {},
   "outputs": [
    {
     "output_type": "stream",
     "name": "stdout",
     "text": "No match\nMatch\n['spam', 'spam']\n"
    }
   ],
   "source": [
    "# Other functions to match patterns are re.search and re.findall.\n",
    "# The function re.search finds a match of a pattern anywhere in the string.\n",
    "# The function re.findall returns a list of all substrings that match a pattern.\n",
    "\n",
    "# Example:\n",
    "\n",
    "import re\n",
    "\n",
    "pattern = r\"spam\"\n",
    "\n",
    "if re.match(pattern, \"eggspamsausagespam\"):\n",
    "   print(\"Match\")\n",
    "else:\n",
    "   print(\"No match\")\n",
    "\n",
    "if re.search(pattern, \"eggspamsausagespam\"):\n",
    "   print(\"Match\")\n",
    "else:\n",
    "   print(\"No match\")\n",
    "    \n",
    "print(re.findall(pattern, \"eggspamsausagespam\"))\n",
    "\n",
    "# In the example above, the match function did not match the pattern, as it looks at the beginning of the string.\n",
    "# The search function found a match in the string.\n",
    "# The function re.finditer does the same thing as re.findall, except it returns an iterator, rather than a list."
   ]
  },
  {
   "cell_type": "markdown",
   "metadata": {},
   "source": [
    "# Search & Replace"
   ]
  },
  {
   "cell_type": "code",
   "execution_count": 136,
   "metadata": {},
   "outputs": [
    {
     "output_type": "stream",
     "name": "stdout",
     "text": "My name is Amy. Hi Amy.\n"
    }
   ],
   "source": [
    "# One of the most important re methods that use regular expressions is sub.\n",
    "# Syntax:\n",
    "# re.sub(pattern, repl, string, count=0)\n",
    "\n",
    "# This method replaces all occurrences of the pattern in string with repl, substituting all occurrences, unless count provided. This method returns the modified string.\n",
    "# Example:\n",
    "\n",
    "import re\n",
    "\n",
    "str = \"My name is David. Hi David.\"\n",
    "pattern = r\"David\"\n",
    "newstr = re.sub(pattern, \"Amy\", str)\n",
    "print(newstr)"
   ]
  },
  {
   "cell_type": "markdown",
   "metadata": {},
   "source": [
    "# Metacharacters"
   ]
  },
  {
   "cell_type": "code",
   "execution_count": 137,
   "metadata": {},
   "outputs": [],
   "source": [
    "# Metacharacters are what make regular expressions more powerful than normal string methods.\n",
    "# They allow you to create regular expressions to represent concepts like \"one or more repetitions of a vowel\".\n",
    "\n",
    "# The existence of metacharacters poses a problem if you want to create a regular expression (or regex) that matches a literal metacharacter, such as \"$\". You can do this by escaping the metacharacters by putting a backslash in front of them.\n",
    "# However, this can cause problems, since backslashes also have an escaping function in normal Python strings. This can mean putting three or four backslashes in a row to do all the escaping.\n",
    "# To avoid this, you can use a raw string, which is a normal string with an \"r\" in front of it. We saw usage of raw strings in the previous lesson."
   ]
  },
  {
   "cell_type": "code",
   "execution_count": 146,
   "metadata": {},
   "outputs": [
    {
     "output_type": "stream",
     "name": "stdout",
     "text": "Match 1\nMatch 2\n"
    }
   ],
   "source": [
    "# The first metacharacter we will look at is . (dot).\n",
    "# This matches any character, other than a new line.\n",
    "\n",
    "# . (dot) - any character (except new line - \\n)\n",
    "\n",
    "# Example:\n",
    "\n",
    "import re\n",
    "\n",
    "pattern = r\"gr.y\"\n",
    "\n",
    "if re.match(pattern, \"grey\"):\n",
    "   print(\"Match 1\")\n",
    "\n",
    "if re.match(pattern, \"gray\"):\n",
    "   print(\"Match 2\")\n",
    "\n",
    "if re.match(pattern, \"blue\"):\n",
    "   print(\"Match 3\")"
   ]
  },
  {
   "cell_type": "code",
   "execution_count": 145,
   "metadata": {},
   "outputs": [
    {
     "output_type": "stream",
     "name": "stdout",
     "text": "Match 1\nMatch 2\n"
    }
   ],
   "source": [
    "# The next two metacharacters are ^ and $.\n",
    "# These match the start and end of a string, respectively.\n",
    "\n",
    "# ^ - start of a string (\\A)\n",
    "# $ - end of a string (\\Z)\n",
    "\n",
    "# Example:\n",
    "\n",
    "import re\n",
    "\n",
    "pattern = r\"^gr.y$\"\n",
    "\n",
    "if re.match(pattern, \"grey\"):\n",
    "   print(\"Match 1\")\n",
    "\n",
    "if re.match(pattern, \"gray\"):\n",
    "   print(\"Match 2\")\n",
    "\n",
    "if re.match(pattern, \"stingray\"):\n",
    "   print(\"Match 3\")\n",
    "\n",
    "# The pattern \"^gr.y$\" means that the string should start with gr, then follow with any character, except a newline, and end with y."
   ]
  },
  {
   "cell_type": "markdown",
   "metadata": {},
   "source": [
    "# Character Classes"
   ]
  },
  {
   "cell_type": "code",
   "execution_count": null,
   "metadata": {},
   "outputs": [],
   "source": [
    "# Character classes provide a way to match only one of a specific set of characters.\n",
    "# A character class is created by putting the characters it matches inside square brackets.\n",
    "\n",
    "# [] - так определяется класс символов.\n",
    "# Example:\n",
    "\n",
    "import re\n",
    "\n",
    "pattern = r\"[aeiou]\"\n",
    "\n",
    "if re.search(pattern, \"grey\"):\n",
    "   print(\"Match 1\")\n",
    "\n",
    "if re.search(pattern, \"qwertyuiop\"):\n",
    "   print(\"Match 2\")\n",
    "\n",
    "if re.search(pattern, \"rhythm myths\"):\n",
    "   print(\"Match 3\")\n",
    "\n",
    "# The pattern [aeiou] in the search function matches all strings that contain any one of the characters defined."
   ]
  },
  {
   "cell_type": "code",
   "execution_count": 148,
   "metadata": {},
   "outputs": [
    {
     "output_type": "stream",
     "name": "stdout",
     "text": "Match 1\nMatch 2\n"
    }
   ],
   "source": [
    "# Character classes can also match ranges of characters.\n",
    "# Some examples:\n",
    "# The class [a-z] matches any lowercase alphabetic character.\n",
    "# The class [G-P] matches any uppercase character from G to P.\n",
    "# The class [0-9] matches any digit.\n",
    "# Multiple ranges can be included in one class. For example, [A-Za-z] matches a letter of any case.\n",
    "# Example:\n",
    "\n",
    "import re\n",
    "\n",
    "pattern = r\"[A-Z][A-Z][0-9]\"\n",
    "\n",
    "if re.search(pattern, \"LS8\"):\n",
    "   print(\"Match 1\")\n",
    "\n",
    "if re.search(pattern, \"E3\"):\n",
    "   print(\"Match 2\")\n",
    "\n",
    "if re.search(pattern, \"1ab\"):\n",
    "   print(\"Match 3\")\n",
    "\n",
    "#The pattern in the example above matches strings that contain two alphabetic uppercase letters followed by a digit."
   ]
  },
  {
   "cell_type": "code",
   "execution_count": null,
   "metadata": {},
   "outputs": [],
   "source": [
    "# Place a ^ at the start of a character class to invert it.\n",
    "# This causes it to match any character other than the ones included.\n",
    "# Other metacharacters such as $ and ., have no meaning within character classes.\n",
    "# The metacharacter ^ has no meaning unless it is the first character in a class.\n",
    "\n",
    "# Example:\n",
    "\n",
    "import re\n",
    "\n",
    "pattern = r\"[^A-Z]\"\n",
    "\n",
    "if re.search(pattern, \"this is all quiet\"):\n",
    "   print(\"Match 1\")\n",
    "\n",
    "if re.search(pattern, \"AbCdEfG123\"):\n",
    "   print(\"Match 2\")\n",
    "\n",
    "if re.search(pattern, \"THISISALLSHOUTING\"):\n",
    "   print(\"Match 3\")\n",
    "\n",
    "# The pattern [^A-Z] excludes uppercase strings.\n",
    "# Note, that the ^ should be inside the brackets to invert the character class."
   ]
  },
  {
   "cell_type": "markdown",
   "metadata": {},
   "source": [
    "# Metacharacters"
   ]
  },
  {
   "cell_type": "code",
   "execution_count": 131,
   "metadata": {},
   "outputs": [
    {
     "output_type": "stream",
     "name": "stdout",
     "text": "pam\n4\n7\n(4, 7)\n"
    }
   ],
   "source": [
    "# The regex search returns an object with several methods that give details about it.\n",
    "# These methods include group which returns the string matched, start and end which return the start and ending positions of the first match, and span which returns the start and end positions of the first match as a tuple.\n",
    "# Example:\n",
    "\n",
    "import re\n",
    "\n",
    "pattern = r\"pam\"\n",
    "\n",
    "match = re.search(pattern, \"eggspamsausage\")\n",
    "if match:\n",
    "   print(match.group())\n",
    "   print(match.start())\n",
    "   print(match.end())\n",
    "   print(match.span())"
   ]
  },
  {
   "cell_type": "code",
   "execution_count": 28,
   "metadata": {},
   "outputs": [
    {
     "output_type": "stream",
     "name": "stdout",
     "text": "Match 1\nMatch 2\n"
    }
   ],
   "source": [
    "import re\n",
    "\n",
    "pattern = r\"egg(spam)*\"\n",
    "\n",
    "if re.match(pattern, \"egg\"):\n",
    "   print(\"Match 1\")\n",
    "\n",
    "if re.match(pattern, \"eggspamspamegg\"):\n",
    "   print(\"Match 2\")\n",
    "\n",
    "if re.match(pattern, \"spam\"):\n",
    "   print(\"Match 3\")"
   ]
  },
  {
   "cell_type": "code",
   "execution_count": 36,
   "metadata": {},
   "outputs": [
    {
     "output_type": "stream",
     "name": "stdout",
     "text": "Match 2\n"
    }
   ],
   "source": [
    "import re\n",
    "\n",
    "pattern = r\"g+\"\n",
    "\n",
    "if re.match(pattern, \"g\"):\n",
    "   print(\"Match 1\")\n",
    "\n",
    "if re.match(pattern, \"gggggggggggggg\"):\n",
    "   print(\"Match 2\")\n",
    "\n",
    "if re.match(pattern, \"abc\"):\n",
    "   print(\"Match 3\")"
   ]
  },
  {
   "cell_type": "markdown",
   "metadata": {},
   "source": [
    "# Metacharacters +\n",
    "\n",
    "The metacharacter ? means \"zero or one repetitions\"."
   ]
  },
  {
   "cell_type": "code",
   "execution_count": 42,
   "metadata": {},
   "outputs": [
    {
     "output_type": "stream",
     "name": "stdout",
     "text": "Match 1\nMatch 2\n"
    }
   ],
   "source": [
    "import re\n",
    "\n",
    "pattern = r\"ice(-)?cream\"\n",
    "\n",
    "if re.match(pattern, \"ice-cream\"):\n",
    "   print(\"Match 1\")\n",
    "\n",
    "if re.match(pattern, \"icecream\"):\n",
    "   print(\"Match 2\")\n",
    "\n",
    "if re.match(pattern, \"sausages\"):\n",
    "   print(\"Match 3\")\n",
    "\n",
    "if re.match(pattern, \"ice--ice\"):\n",
    "   print(\"Match 4\")"
   ]
  },
  {
   "cell_type": "markdown",
   "metadata": {},
   "source": [
    "# Curly Braces\n",
    "\n",
    "Curly braces can be used to represent the number of repetitions between two numbers.\n",
    "The regex {x,y} means \"between x and y repetitions of something\".\n",
    "Hence {0,1} is the same thing as ?.\n",
    "If the first number is missing, it is taken to be zero. If the second number is missing, it is taken to be infinity.\n",
    "Example:\n"
   ]
  },
  {
   "cell_type": "code",
   "execution_count": 56,
   "metadata": {},
   "outputs": [
    {
     "output_type": "stream",
     "name": "stdout",
     "text": "Match 1\nMatch 2\n"
    }
   ],
   "source": [
    "import re\n",
    "# символ $ означает что строка заканчивается, т.е. после него не дложно следовать больше никаких символов\n",
    "pattern = r\"9{1,3}$\" \n",
    "\n",
    "if re.match(pattern, \"9\"):\n",
    "   print(\"Match 1\")\n",
    "\n",
    "if re.match(pattern, \"999\"):    \n",
    "   print(\"Match 2\")\n",
    "\n",
    "if re.match(pattern, \"9999\"):\n",
    "   print(\"Match 3\")"
   ]
  },
  {
   "cell_type": "markdown",
   "metadata": {},
   "source": [
    "# Groups"
   ]
  },
  {
   "cell_type": "markdown",
   "metadata": {},
   "source": [
    "A group can be created by surrounding part of a regular expression with parentheses.\n",
    "This means that a group can be given as an argument to metacharacters such as * and ?.\n",
    "Example:"
   ]
  },
  {
   "cell_type": "code",
   "execution_count": 68,
   "metadata": {},
   "outputs": [
    {
     "output_type": "stream",
     "name": "stdout",
     "text": "Match 1\nMatch 2\n"
    }
   ],
   "source": [
    "import re\n",
    "\n",
    "pattern = r\"egg(spam)*\"\n",
    "\n",
    "if re.match(pattern, \"egg\"):\n",
    "   print(\"Match 1\")\n",
    "\n",
    "if re.match(pattern, \"eggspamspamspamegg\"):\n",
    "   print(\"Match 2\")\n",
    "\n",
    "if re.match(pattern, \"spam\"):\n",
    "   print(\"Match 3\")"
   ]
  },
  {
   "cell_type": "markdown",
   "metadata": {},
   "source": [
    "The content of groups in a match can be accessed using the group function.\n",
    "A call of group(0) or group() returns the whole match.\n",
    "A call of group(n), where n is greater than 0, returns the nth group from the left.\n",
    "The method groups() returns all groups up from 1.\n",
    "Example:\n",
    "\n"
   ]
  },
  {
   "cell_type": "code",
   "execution_count": 64,
   "metadata": {},
   "outputs": [
    {
     "output_type": "stream",
     "name": "stdout",
     "text": "abcdefghi\nabcdefghi\nbc\nde\n('bc', 'de', 'fgh', 'g')\nabcdefghi ('bc', 'de', 'fgh', 'g')\n"
    }
   ],
   "source": [
    "import re\n",
    "\n",
    "pattern = r\"a(bc)(de)(f(g)h)i\"\n",
    "\n",
    "match = re.match(pattern, \"abcdefghijklmnop\")\n",
    "if match:\n",
    "   print(match.group())\n",
    "   print(match.group(0))\n",
    "   print(match.group(1))\n",
    "   print(match.group(2))\n",
    "   print(match.groups())\n",
    "   print(match.group(), match.groups())"
   ]
  },
  {
   "cell_type": "markdown",
   "metadata": {},
   "source": [
    "There are several kinds of special groups.\n",
    "Two useful ones are named groups and non-capturing groups.\n",
    "Named groups have the format (?P<name>...), where name is the name of the group, and ... is the content. They behave exactly the same as normal groups, except they can be accessed by group(name) in addition to its number.\n",
    "Non-capturing groups have the format (?:...). They are not accessible by the group method, so they can be added to an existing regular expression without breaking the numbering.\n",
    "Example:"
   ]
  },
  {
   "cell_type": "code",
   "execution_count": 70,
   "metadata": {},
   "outputs": [
    {
     "output_type": "stream",
     "name": "stdout",
     "text": "abc\n('abc', 'ghi')\n"
    }
   ],
   "source": [
    "import re\n",
    "\n",
    "pattern = r\"(?P<first>abc)(?:def)(ghi)\"\n",
    "\n",
    "match = re.match(pattern, \"abcdefghi\")\n",
    "if match:\n",
    "   print(match.group(\"first\"))\n",
    "   print(match.groups())"
   ]
  },
  {
   "cell_type": "markdown",
   "metadata": {},
   "source": [
    "Another important metacharacter is |.\n",
    "This means \"or\", so red|blue matches either \"red\" or \"blue\".\n",
    "Example:"
   ]
  },
  {
   "cell_type": "code",
   "execution_count": 73,
   "metadata": {},
   "outputs": [
    {
     "output_type": "stream",
     "name": "stdout",
     "text": "Match 1\nMatch 2\n"
    }
   ],
   "source": [
    "import re\n",
    "\n",
    "pattern = r\"gr(a|e)y\"\n",
    "\n",
    "match = re.match(pattern, \"gray\")\n",
    "if match:\n",
    "   print (\"Match 1\")\n",
    "\n",
    "match = re.match(pattern, \"grey\")\n",
    "if match:\n",
    "   print (\"Match 2\")    \n",
    "\n",
    "match = re.match(pattern, \"griy\")\n",
    "if match:\n",
    "    print (\"Match 3\")"
   ]
  },
  {
   "cell_type": "markdown",
   "metadata": {},
   "source": [
    "# Special Sequences\n",
    "\n",
    "There are various special sequences you can use in regular expressions. They are written as a backslash followed by another character.\n",
    "One useful special sequence is a backslash and a number between 1 and 99, e.g., \\1 or \\17. This matches the expression of the group of that number."
   ]
  },
  {
   "cell_type": "code",
   "execution_count": 81,
   "metadata": {},
   "outputs": [
    {
     "output_type": "stream",
     "name": "stdout",
     "text": "Match 1\nMatch 2\n"
    }
   ],
   "source": [
    "import re\n",
    "\n",
    "pattern = r\"(.+) \\1\"\n",
    "\n",
    "match = re.match(pattern, \"word word\")\n",
    "if match:\n",
    "   print (\"Match 1\")\n",
    "\n",
    "match = re.match(pattern, \"?! ?!\")\n",
    "if match:\n",
    "   print (\"Match 2\")\n",
    "\n",
    "match = re.match(pattern, \"abc cde\")\n",
    "if match:\n",
    "   print (\"Match 3\")\n",
    ""
   ]
  },
  {
   "cell_type": "code",
   "execution_count": 100,
   "metadata": {},
   "outputs": [],
   "source": [
    "# More useful special sequences are \\d, \\s, and \\w.\n",
    "# These match digits, whitespace, and word characters respectively.\n",
    "\n",
    "#  - \\d - digits;\n",
    "#  - \\s - whitespace;\n",
    "#  - \\w - characters.\n",
    "\n",
    "# In ASCII mode they are equivalent to [0-9], [ \\t\\n\\r\\f\\v], and [a-zA-Z0-9_].\n",
    "\n",
    "# In Unicode mode they match certain other characters, as well. For instance, \\w matches letters with accents.\n",
    "\n",
    "# Versions of these special sequences with upper case letters - \\D, \\S, and \\W - mean the opposite to the lower-case versions. For instance, \\D matches anything that isn't a digit.\n",
    "# Example:"
   ]
  },
  {
   "cell_type": "code",
   "execution_count": 85,
   "metadata": {},
   "outputs": [
    {
     "output_type": "stream",
     "name": "stdout",
     "text": "Match 1\n"
    }
   ],
   "source": [
    "import re\n",
    "\n",
    "pattern = r\"(\\D+\\d)\"\n",
    "\n",
    "match = re.match(pattern, \"Hi 999!\")\n",
    "\n",
    "if match:\n",
    "   print(\"Match 1\")\n",
    "\n",
    "match = re.match(pattern, \"1, 23, 456!\")\n",
    "if match:\n",
    "   print(\"Match 2\")\n",
    "\n",
    "match = re.match(pattern, \" ! $?\")\n",
    "if match:\n",
    "    print(\"Match 3\")"
   ]
  },
  {
   "cell_type": "markdown",
   "metadata": {},
   "source": [
    "Additional special sequences are \\A, \\Z, and \\b.\n",
    "The sequences \\A and \\Z match the beginning and end of a string, respectively.\n",
    "\n",
    "The sequence \\b matches the empty string between \\w and \\W characters, or \\w characters and the beginning or end of the string. Informally, it represents the boundary between words.\n",
    "\n",
    "The sequence \\B matches the empty string anywhere else.\n",
    "Example:"
   ]
  },
  {
   "cell_type": "code",
   "execution_count": 98,
   "metadata": {},
   "outputs": [
    {
     "output_type": "stream",
     "name": "stdout",
     "text": "Match 1\nMatch 2\n"
    }
   ],
   "source": [
    "import re\n",
    "\n",
    "pattern = r\"\\b(cat)\\b\"\n",
    "\n",
    "match = re.search(pattern, \"The cat sat!\")\n",
    "if match:\n",
    "   print (\"Match 1\")\n",
    "\n",
    "match = re.search(pattern, \"We s>cat<tered?\")\n",
    "if match:\n",
    "   print (\"Match 2\")\n",
    "\n",
    "match = re.search(pattern, \"scattered.\")\n",
    "if match:\n",
    "   print (\"Match 3\")"
   ]
  },
  {
   "cell_type": "code",
   "execution_count": 101,
   "metadata": {},
   "outputs": [],
   "source": [
    "# Email Extraction\n",
    "\n",
    "# To demonstrate a sample usage of regular expressions, lets create a program to extract email addresses from a string.\n",
    "# Suppose we have a text that contains an email address:\n",
    "\n",
    "# str = \"Please contact info@sololearn.com for assistance\"\n",
    "\n",
    "# Our goal is to extract the substring \"info@sololearn.com\".\n",
    "# A basic email address consists of a word and may include dots or dashes. This is followed by the @ sign and the domain name (the name, a dot, and the domain name suffix).\n",
    "# This is the basis for building our regular expression.\n",
    "\n",
    "# pattern = r\"([\\w\\.-]+)@([\\w\\.-]+)(\\.[\\w\\.]+)\"\n",
    "\n",
    "# [\\w\\.-]+ matches one or more word character, dot or dash.\n",
    "# The regex above says that the string should contain a word (with dots and dashes allowed), followed by the @ sign, then another similar word, then a dot and another word.\n",
    "# Our regex contains three groups:\n",
    "\n",
    "# 1 - first part of the email address.\n",
    "# 2 - domain name without the suffix.\n",
    "# 3 - the domain suffix."
   ]
  },
  {
   "cell_type": "code",
   "execution_count": 134,
   "metadata": {},
   "outputs": [
    {
     "output_type": "stream",
     "name": "stdout",
     "text": "info@sololearn.com\n('info', 'sololearn', '.com')\n<callable_iterator object at 0x0000018EBF0A4048>\n"
    }
   ],
   "source": [
    "import re\n",
    "\n",
    "pattern = r\"([\\w\\.-]+)@([\\w\\.-]+)(\\.[\\w\\.]+)\"\n",
    "str = \"Please contact info@sololearn.com for assistance infoооо@gmail.com\"\n",
    "\n",
    "match = re.search(pattern, str)\n",
    "if match:\n",
    "   print(match.group())\n",
    "   print(match.groups())\n",
    "\n",
    "match2 = re.finditer(pattern, str)\n",
    "if (match2):\n",
    "    print(match2)"
   ]
  },
  {
   "cell_type": "code",
   "execution_count": null,
   "metadata": {},
   "outputs": [],
   "source": []
  }
 ]
}