{
 "cells": [
  {
   "cell_type": "code",
   "execution_count": 7,
   "metadata": {
    "pycharm": {
     "name": "#%%\n"
    }
   },
   "outputs": [
    {
     "data": {
      "text/plain": "type"
     },
     "execution_count": 7,
     "metadata": {},
     "output_type": "execute_result"
    }
   ],
   "source": [
    "class Foo(object): pass\n",
    "\n",
    "\n",
    "isinstance(Foo, object)"
   ]
  },
  {
   "cell_type": "code",
   "execution_count": 8,
   "outputs": [
    {
     "data": {
      "text/plain": "type"
     },
     "execution_count": 8,
     "metadata": {},
     "output_type": "execute_result"
    }
   ],
   "source": [
    "type(Foo)\n"
   ],
   "metadata": {
    "collapsed": false,
    "pycharm": {
     "name": "#%%\n"
    }
   }
  },
  {
   "cell_type": "code",
   "execution_count": 50,
   "outputs": [],
   "source": [
    "class_name = \"Foo\"  # Имя класса\n",
    "class_parents = (object,)  # Базовые классы\n",
    "class_body = \"\"\" # Тело класса\n",
    "def __init__(self, x):\n",
    "    self.x = x\n",
    "    self.blah()\n",
    "\n",
    "def blah(self):\n",
    "    print('Hello World')\n",
    "\"\"\"\n",
    "\n",
    "globals = {}\n",
    "class_dict = {}\n",
    "\n",
    "# Выполнить тело класса с использованием локального словаря class_dict\n",
    "exec(class_body, globals, locals)"
   ],
   "metadata": {
    "collapsed": false,
    "pycharm": {
     "name": "#%%\n"
    }
   }
  },
  {
   "cell_type": "code",
   "execution_count": 35,
   "outputs": [],
   "source": [
    "# Создать объект класса Foo\n",
    "Foo = type(class_name, class_parents, class_dict)"
   ],
   "metadata": {
    "collapsed": false,
    "pycharm": {
     "name": "#%%\n"
    }
   }
  },
  {
   "cell_type": "code",
   "execution_count": 36,
   "outputs": [
    {
     "name": "stdout",
     "output_type": "stream",
     "text": [
      "3\n",
      "5\n",
      "10\n",
      "13\n"
     ]
    }
   ],
   "source": [
    "a = [3, 5, 10, 13]\n",
    "exec(\"for i in a: print(i)\")"
   ],
   "metadata": {
    "collapsed": false,
    "pycharm": {
     "name": "#%%\n"
    }
   }
  },
  {
   "cell_type": "code",
   "execution_count": 28,
   "outputs": [
    {
     "name": "stdout",
     "output_type": "stream",
     "text": [
      "Parrot\n",
      "Swallow\n",
      "Albatross\n"
     ]
    }
   ],
   "source": [
    "globals = {'x': 7,\n",
    "           'y': 10,\n",
    "           'birds': ['Parrot', 'Swallow', 'Albatross']}\n",
    "\n",
    "locals = {}\n",
    "# Словари, объявленные выше, используются, как глобальное и\n",
    "# локальное пространства имен при выполнении следующей инструкции\n",
    "a = eval('3 * x + 4 * y ', globals, locals)\n",
    "exec(\"for b in birds: print(b)\", globals, locals)"
   ],
   "metadata": {
    "collapsed": false,
    "pycharm": {
     "name": "#%%\n"
    }
   }
  },
  {
   "cell_type": "code",
   "execution_count": null,
   "outputs": [],
   "source": [],
   "metadata": {
    "collapsed": false,
    "pycharm": {
     "name": "#%%\n"
    }
   }
  }
 ],
 "metadata": {
  "kernelspec": {
   "display_name": "Python 3",
   "language": "python",
   "name": "python3"
  },
  "language_info": {
   "codemirror_mode": {
    "name": "ipython",
    "version": 3
   },
   "file_extension": ".py",
   "mimetype": "text/x-python",
   "name": "python",
   "nbconvert_exporter": "python",
   "pygments_lexer": "ipython3",
   "version": "3.7.5"
  }
 },
 "nbformat": 4,
 "nbformat_minor": 4
}