{
 "cells": [
  {
   "cell_type": "code",
   "execution_count": 1,
   "metadata": {},
   "outputs": [
    {
     "name": "stdout",
     "output_type": "stream",
     "text": [
      "Привет\n"
     ]
    }
   ],
   "source": [
    "print(\"Привет\")"
   ]
  },
  {
   "cell_type": "code",
   "execution_count": 27,
   "metadata": {},
   "outputs": [
    {
     "name": "stdout",
     "output_type": "stream",
     "text": [
      "  1 1050.00\n",
      "  2 1102.50\n",
      "  3 1157.62\n",
      "  4 1215.51\n",
      "  5 1276.28\n",
      "  6 1340.10\n",
      "  7 1407.10\n",
      "  8 1477.46\n",
      "  9 1551.33\n",
      " 10 1628.89\n",
      " 11 1710.34\n",
      " 12 1795.86\n",
      " 13 1885.65\n",
      " 14 1979.93\n",
      " 15 2078.93\n",
      " 16 2182.87\n",
      " 17 2292.02\n",
      " 18 2406.62\n",
      " 19 2526.95\n",
      " 20 2653.30\n"
     ]
    }
   ],
   "source": [
    "principal = 1000\n",
    "rate = 0.05\n",
    "numyears = 20\n",
    "year = 1\n",
    "\n",
    "while (year <= numyears):\n",
    "    principal = principal * (1 + rate)\n",
    "    # print( format(year, \"3d\"), format(principal, \"0.2f\") )\n",
    "    print(\"{0:3d} {1:0.2f}\". format(year, principal))\n",
    "    year += 1"
   ]
  },
  {
   "cell_type": "code",
   "execution_count": 35,
   "metadata": {},
   "outputs": [
    {
     "name": "stdout",
     "output_type": "stream",
     "text": [
      "True\n"
     ]
    }
   ],
   "source": [
    "s = 'spamer'\n",
    "if 'spam' in s:\n",
    "    has_spam = True\n",
    "else:\n",
    "    has_spam = False\n",
    "print(has_spam)"
   ]
  },
  {
   "cell_type": "code",
   "execution_count": 6,
   "metadata": {},
   "outputs": [
    {
     "name": "stdout",
     "output_type": "stream",
     "text": [
      "foo in foo.text\n",
      "\n",
      "Другой способ\n",
      "foo in foo.text\n",
      "\n"
     ]
    }
   ],
   "source": [
    "f = open(\"foo.txt\")\n",
    "line = f.readline()\n",
    "while line:\n",
    "    print(line)\n",
    "    line = f.readline()\n",
    "print(\"Другой способ:\")\n",
    "f.close()\n",
    "\n",
    "for line in open(\"foo.txt\"):\n",
    "    print(line)"
   ]
  },
  {
   "cell_type": "code",
   "execution_count": 14,
   "metadata": {},
   "outputs": [],
   "source": [
    "principal = 1000\n",
    "rate = 0.05\n",
    "numyears = 20\n",
    "year = 1\n",
    "\n",
    "fileout = open(\"out.txt\", \"w\")\n",
    "while (year <= numyears):\n",
    "    principal = principal * (1 + rate)\n",
    "    print(\"{0:3d} {1:0.2f}\". format(year, principal), file=fileout)\n",
    "    year += 1\n",
    "fileout.close()"
   ]
  },
  {
   "cell_type": "code",
   "execution_count": 20,
   "metadata": {},
   "outputs": [
    {
     "data": {
      "text/plain": [
       "'Это'"
      ]
     },
     "execution_count": 20,
     "metadata": {},
     "output_type": "execute_result"
    }
   ],
   "source": [
    "a = \"Это строка\"\n",
    "type(a)\n",
    "a[0:3]"
   ]
  },
  {
   "cell_type": "code",
   "execution_count": 26,
   "metadata": {},
   "outputs": [
    {
     "data": {
      "text/plain": [
       "'3728'"
      ]
     },
     "execution_count": 26,
     "metadata": {},
     "output_type": "execute_result"
    }
   ],
   "source": [
    "x = \"37\"\n",
    "y = \"28\"\n",
    "x + y"
   ]
  },
  {
   "cell_type": "code",
   "execution_count": 27,
   "metadata": {},
   "outputs": [
    {
     "data": {
      "text/plain": [
       "65"
      ]
     },
     "execution_count": 27,
     "metadata": {},
     "output_type": "execute_result"
    }
   ],
   "source": [
    "z = int(x) + int(y)\n",
    "z"
   ]
  },
  {
   "cell_type": "code",
   "execution_count": 9,
   "metadata": {},
   "outputs": [
    {
     "name": "stdout",
     "output_type": "stream",
     "text": [
      "['Dave', 'Mark', 'Ann', 'Phil']\n",
      "Ann\n",
      "Dave\n",
      "['Dave', 'Mark', 'Ann', 'Phil']\n",
      "['Dave', 'Mark', 'Ann', 'Phil', 'Paula']\n",
      "['Dave', 'Mark', 'Thomas', 'Ann', 'Phil', 'Paula']\n",
      "['Dave', 'Mark']\n",
      "['Thomas', 'Ann', 'Phil', 'Paula']\n",
      "['Dave', 'Mark', 'Thomas', 'Ann', 'Phil', 'Paula']\n",
      "['Dave', 'Mark', 'Jeff', 'Ann', 'Phil', 'Paula']\n"
     ]
    }
   ],
   "source": [
    "# работа со списками\n",
    "\n",
    "names = [ \"Dave\", \"Mark\", \"Ann\", \"Phil\" ]\n",
    "print(names)\n",
    "a = names[2]\n",
    "print(a)\n",
    "print(names[0])\n",
    "print(names)\n",
    "\n",
    "names.append(\"Paula\")\n",
    "print(names)\n",
    "\n",
    "names.insert(2, \"Thomas\")\n",
    "print(names)\n",
    "\n",
    "#тестриуем оператор среза\n",
    "\n",
    "b=names[0:2]\n",
    "print(b)\n",
    "\n",
    "b=names[2:]\n",
    "print(b)\n",
    "\n",
    "print(names)\n",
    "names[2] = \"Jeff\"\n",
    "print(names)"
   ]
  },
  {
   "cell_type": "code",
   "execution_count": null,
   "metadata": {},
   "outputs": [],
   "source": [
    "a = [1, 'Dave', 3.14, ['Mark', 7, 9, [100,101]], 10]\n",
    "print(a)\n",
    "print(a[1])\n",
    "print(a[3][0])\n",
    "print(a[3][3])"
   ]
  },
  {
   "cell_type": "code",
   "execution_count": 2,
   "metadata": {},
   "outputs": [
    {
     "name": "stdout",
     "output_type": "stream",
     "text": [
      "GOOG\n",
      "49010.0\n"
     ]
    }
   ],
   "source": [
    "# работа со словарями\n",
    "\n",
    "stock = {\n",
    "    \"name\" : \"GOOG\",\n",
    "    \"shares\" : 100,\n",
    "    \"price\" : 490.1\n",
    "}\n",
    "\n",
    "name = stock[\"name\"]\n",
    "value = stock[\"shares\"] * stock[\"price\"]\n",
    "\n",
    "print(name)\n",
    "print(value)"
   ]
  },
  {
   "cell_type": "code",
   "execution_count": null,
   "metadata": {},
   "outputs": [],
   "source": [
    "# следит за содержимым файла (на манер команды tail -f)\n",
    "import time\n",
    "def tail(f):\n",
    "    f.seek(0,2)             # Переход в конец файла\n",
    "    while True:\n",
    "        line = f.readline() # Попытаться прочитать новую строку текста\n",
    "        if not line:        # Если ничего не прочитано,\n",
    "            time.sleep(0.1) # приостановиться на короткое время\n",
    "            continue        # и повторить попытку\n",
    "        yield line\n",
    "\n",
    "\n",
    "def grep(lines, searchtext):\n",
    "    for line in lines:\n",
    "        if searchtext in line: yield line\n",
    "        \n",
    "# Реализация последовательности команд “tail -f | grep python”\n",
    "           # на языке Python\n",
    "wwwlog = tail(open(\"access-log.txt\"))\n",
    "print(wwwlog)\n",
    "pylines = grep(wwwlog, \"python\")\n",
    "for line in pylines:\n",
    "    print(line)"
   ]
  },
  {
   "cell_type": "code",
   "execution_count": 11,
   "metadata": {},
   "outputs": [
    {
     "name": "stdout",
     "output_type": "stream",
     "text": [
      "[0, 1]\n"
     ]
    }
   ],
   "source": [
    "a = []\n",
    "\n",
    "a.append([0, 1])\n",
    "a.append([10, 11])\n",
    "\n",
    "print(a[0])"
   ]
  },
  {
   "cell_type": "code",
   "execution_count": null,
   "metadata": {},
   "outputs": [],
   "source": []
  },
  {
   "cell_type": "code",
   "execution_count": null,
   "metadata": {},
   "outputs": [],
   "source": []
  },
  {
   "cell_type": "code",
   "execution_count": null,
   "metadata": {},
   "outputs": [],
   "source": []
  }
 ],
 "metadata": {
  "kernelspec": {
   "display_name": "Python 3",
   "language": "python",
   "name": "python3"
  },
  "language_info": {
   "codemirror_mode": {
    "name": "ipython",
    "version": 3
   },
   "file_extension": ".py",
   "mimetype": "text/x-python",
   "name": "python",
   "nbconvert_exporter": "python",
   "pygments_lexer": "ipython3",
   "version": "3.7.5"
  }
 },
 "nbformat": 4,
 "nbformat_minor": 4
}
