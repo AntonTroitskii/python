{
 "cells": [
  {
   "cell_type": "code",
   "execution_count": 3,
   "metadata": {},
   "outputs": [
    {
     "name": "stdout",
     "output_type": "stream",
     "text": [
      "[1, 2, 3, 4]\n"
     ]
    }
   ],
   "source": [
    "a = 1 + 4j\n",
    "a.real\n",
    "\n",
    "b = [1, 2, 3]\n",
    "b.append(4)\n",
    "print(b)"
   ]
  },
  {
   "cell_type": "code",
   "execution_count": 2,
   "metadata": {},
   "outputs": [
    {
     "name": "stdout",
     "output_type": "stream",
     "text": [
      "a и b занимают разные места в памяти\n",
      "a <> b\n",
      "типы совпадают\n",
      "------------------\n",
      "a и b занимют одно и то же место в памяти\n",
      "a = b\n",
      "типы совпадают\n",
      "------------------\n"
     ]
    }
   ],
   "source": [
    "def compare(a, b):\n",
    "    if a is b:\n",
    "        print(\"a и b занимют одно и то же место в памяти\")\n",
    "    else:\n",
    "        print(\"a и b занимают разные места в памяти\")\n",
    "    if a == b:\n",
    "        print(\"a = b\")\n",
    "    else:\n",
    "        print(\"a <> b\")\n",
    "    if type(a) is type(b):\n",
    "        print(\"типы совпадают\")\n",
    "    else:\n",
    "        print(\"типы НЕ совпадают\")\n",
    "    print(\"------------------\")\n",
    "        \n",
    "a = 42\n",
    "b = 43 \n",
    "compare(a,b)\n",
    "\n",
    "a = 42\n",
    "b = 42 \n",
    "compare(a,b)"
   ]
  },
  {
   "cell_type": "code",
   "execution_count": 3,
   "metadata": {},
   "outputs": [
    {
     "data": {
      "text/plain": [
       "27"
      ]
     },
     "execution_count": 3,
     "metadata": {},
     "output_type": "execute_result"
    }
   ],
   "source": [
    "import sys\n",
    "\n",
    "a = 37\n",
    "b = a\n",
    "c = []\n",
    "c.append(a)\n",
    "\n",
    "sys.getrefcount(a)\n"
   ]
  },
  {
   "cell_type": "code",
   "execution_count": 6,
   "metadata": {},
   "outputs": [
    {
     "name": "stdout",
     "output_type": "stream",
     "text": [
      "3\n",
      "3\n"
     ]
    }
   ],
   "source": [
    "import sys\n",
    "\n",
    "a = {}\n",
    "b = {}\n",
    "a['b'] = b\n",
    "b['a'] = a\n",
    "\n",
    "print(sys.getrefcount(a))\n",
    "print(sys.getrefcount(b))\n",
    "\n",
    "del a \n",
    "del b"
   ]
  },
  {
   "cell_type": "code",
   "execution_count": 9,
   "metadata": {},
   "outputs": [
    {
     "name": "stdout",
     "output_type": "stream",
     "text": [
      "True\n",
      "[1, 2, -100, 4]\n"
     ]
    }
   ],
   "source": [
    "# ссылки и копии\n",
    "a = [1, 2, 3, 4]\n",
    "b = a\n",
    "print(b is a)\n",
    "\n",
    "b[2] = - 100\n",
    "\n",
    "print(a)"
   ]
  },
  {
   "cell_type": "code",
   "execution_count": 16,
   "metadata": {},
   "outputs": [
    {
     "name": "stdout",
     "output_type": "stream",
     "text": [
      "False\n",
      "[1, 2, [3, 4]]\n",
      "[1, 2, [-100, 4], 100]\n",
      "[1, 2, [-100, 4]]\n"
     ]
    }
   ],
   "source": [
    "#пример повехрностного копирования\n",
    "\n",
    "a = [1, 2, [3, 4]]\n",
    "b = list(a)\n",
    "print(b is a)\n",
    "\n",
    "b.append(100)\n",
    "print(a)\n",
    "\n",
    "b[2][0] = -100\n",
    "print(b)\n",
    "print(a)"
   ]
  },
  {
   "cell_type": "code",
   "execution_count": 18,
   "metadata": {},
   "outputs": [
    {
     "name": "stdout",
     "output_type": "stream",
     "text": [
      "[1, 2, [3, 4]]\n",
      "[1, 2, [-100, 4]]\n"
     ]
    }
   ],
   "source": [
    "#пример глубокоого копирования\n",
    "import copy\n",
    "\n",
    "a = [1, 2, [3, 4]]\n",
    "b = copy.deepcopy(a)\n",
    "\n",
    "b[2][0] = -100\n",
    "\n",
    "print(a)\n",
    "print(b)"
   ]
  },
  {
   "cell_type": "code",
   "execution_count": 36,
   "metadata": {},
   "outputs": [
    {
     "name": "stdout",
     "output_type": "stream",
     "text": [
      "45\n",
      "2.0\n",
      "[1, 2, 3, 4, 100]\n"
     ]
    }
   ],
   "source": [
    "items = {\n",
    "    'number' : 42,\n",
    "    'text' : \"Hellow World\"\n",
    "}\n",
    "\n",
    "items[\"func\"] = abs\n",
    "import math\n",
    "items[\"mod\"] = math\n",
    "items[\"error\"] = ValueError\n",
    "nums = [1, 2, 3, 4]\n",
    "items[\"append\"] = nums.append\n",
    "\n",
    "print (items[\"func\"](-45))\n",
    "print (items[\"mod\"].sqrt(4))\n",
    "#try:\n",
    "#    x = int(\"a lot\")\n",
    "#    except ValueError as e:\n",
    "#        print(\"couldn't convert\")\n",
    "\n",
    "items[\"append\"](100)\n",
    "print(nums)"
   ]
  },
  {
   "cell_type": "code",
   "execution_count": 38,
   "metadata": {},
   "outputs": [
    {
     "data": {
      "text/plain": [
       "['GOOG', 100, 490.1]"
      ]
     },
     "execution_count": 38,
     "metadata": {},
     "output_type": "execute_result"
    }
   ],
   "source": [
    "line = \"GOOG, 100, 490.10\"\n",
    "field_types = [str, int, float]\n",
    "raw_fields = line.split(',')\n",
    "fields = [ty(val) for ty, val in zip(field_types, raw_fields)]\n",
    "fields"
   ]
  },
  {
   "cell_type": "code",
   "execution_count": 66,
   "metadata": {},
   "outputs": [
    {
     "name": "stdout",
     "output_type": "stream",
     "text": [
      "[1, 2, 3.0, 4]\n",
      "[1, 2, 3.0, 4, 5, 6, 7, 8.0]\n",
      "8\n",
      "1\n",
      "9\n",
      "2\n",
      "8.0\n",
      "список s: ['s1', 'ss2']\n",
      "max из списка s:ss2\n",
      "index of max elem in s is 1\n",
      "Применяем функци - s.reverse()\n",
      "index of max elem in s is 0\n"
     ]
    }
   ],
   "source": [
    "# работа со спискам\n",
    "import copy\n",
    "a = [1, 2, 3.0, 4]\n",
    "b = [5, 6, 7, 8.0]\n",
    "c = [9, 10, 11, 12.0]\n",
    "\n",
    "d = copy.deepcopy(a)\n",
    "print(d)\n",
    "\n",
    "a.extend(b)\n",
    "print(a)\n",
    "\n",
    "print(len(a))\n",
    "print(a.count(2))\n",
    "a.append(2)\n",
    "print(len(a))\n",
    "print(a.count(2))\n",
    "\n",
    "print(max(a))\n",
    "\n",
    "\n",
    "s = [\"s1\", \"ss2\"]\n",
    "print(\"список s: \" + str(s))\n",
    "print(\"max из списка s:\" + str(max(s)))\n",
    "print(\"index of max elem in s is \" + str(s.index(max(s))))\n",
    "s.reverse()\n",
    "print(\"Применяем функци - s.reverse()\")\n",
    "print(\"index of max elem in s is \" + str(s.index(max(s))))\n",
    "\n"
   ]
  },
  {
   "cell_type": "code",
   "execution_count": 73,
   "metadata": {},
   "outputs": [
    {
     "name": "stdout",
     "output_type": "stream",
     "text": [
      "первая строка\n",
      "capitalize: Первая строка\n",
      "center: первая строка\n",
      "первая строка\n",
      "первая строка\n",
      "первая строка\n"
     ]
    }
   ],
   "source": [
    "#работа со строками\n",
    "\n",
    "s = \"первая строка\"\n",
    "\n",
    "print(s)\n",
    "print(\"capitalize: \" + s.capitalize())\n",
    "print(\"center: \" + s.center(1))\n",
    "print(s)\n",
    "print(s)\n",
    "print(s)\n"
   ]
  },
  {
   "cell_type": "code",
   "execution_count": 85,
   "metadata": {},
   "outputs": [
    {
     "name": "stdout",
     "output_type": "stream",
     "text": [
      "range(1, 9)\n",
      "1\n",
      "2\n",
      "3\n",
      "4\n",
      "5\n",
      "6\n",
      "7\n",
      "8\n",
      "[0.3 0.6 0.9 1.2 1.5 1.8]\n",
      "0.3\n",
      "0.6\n",
      "0.8999999999999999\n",
      "1.2\n",
      "1.5\n"
     ]
    }
   ],
   "source": [
    "a = range(1, 9)\n",
    "\n",
    "print(a)\n",
    "\n",
    "for i in a:\n",
    "    print(i)\n",
    "    \n",
    "type(a)\n",
    "\n",
    "import numpy as np\n",
    " \n",
    "print(np.arange(0.3, 1.9, 0.3))\n",
    "\n",
    "for i in np.arange(0.3, 1.6, 0.3):\n",
    "    print(i)"
   ]
  },
  {
   "cell_type": "code",
   "execution_count": 107,
   "metadata": {},
   "outputs": [
    {
     "name": "stdout",
     "output_type": "stream",
     "text": [
      "{'text': 'text', 'name': 'Tanya', 'movie': 'Twin Picks'}\n",
      "dict_items([('text', 'text'), ('name', 'Tanya'), ('movie', 'Twin Picks')])\n",
      "dict_keys(['text', 'name', 'movie'])\n",
      "dict_values(['text', 'Tanya', 'Twin Picks'])\n",
      "{'text': 'text', 'name': 'Tanya', 'movie': 'Twin Picks'}\n",
      "a = b\n",
      "типы совпадают\n",
      "------------------\n",
      "типы совпадают\n",
      "------------------\n",
      "a занимает то же место в памяти b\n",
      "a = b\n",
      "типы совпадают\n",
      "------------------\n",
      "[('text', 'text'), ('name', 'Tanya'), ('movie', 'Twin Picks')]\n",
      "['text', 'name', 'movie']\n"
     ]
    }
   ],
   "source": [
    "dic = {}\n",
    "\n",
    "dic[\"text\"] = \"text\"\n",
    "dic[\"name\"] = \"Tanya\"\n",
    "dic[\"movie\"] = \"Twin Picks\"\n",
    "\n",
    "print(dic)\n",
    "\n",
    "dic.get(\"name\")\n",
    "print(dic.items())\n",
    "print(dic.keys())\n",
    "print(dic.values())\n",
    "\n",
    "dic2 = dic.copy()\n",
    "print(dic2)\n",
    "compare(dic, dic2)\n",
    "\n",
    "dic3 = dic2.fromkeys(\"text\")\n",
    "compare(dic, dic3)\n",
    "\n",
    "compare(dic, dic)\n",
    "#получаем словарь в вдие списка\n",
    "items = list(dic.items())\n",
    "print(items)\n",
    "#получаем ключи\n",
    "keys = list(dic)\n",
    "print(keys)"
   ]
  },
  {
   "cell_type": "code",
   "execution_count": 111,
   "metadata": {},
   "outputs": [
    {
     "name": "stdout",
     "output_type": "stream",
     "text": [
      "Танины хобби:\n",
      "{'плавание', 'катание на велосипеде', 'настольные игры', 'чтение', 'скрапбурдинг', 'путешествия', 'просмотр фильмов и сериалов'}\n",
      "Антона хобби:\n",
      "{'плавание', 'катание на велосипеде', 'настольные игры', 'программирование', 'чтение', 'путешествия', 'просмотр фильмов и сериалов'}\n",
      "Наши общие хобби:\n",
      "{'плавание', 'катание на велосипеде', 'настольные игры', 'чтение', 'путешествия', 'просмотр фильмов и сериалов'}\n",
      "Танины уникальные хобби:\n",
      "{'скрапбурдинг'}\n",
      "Антона уникальные хобби:\n",
      "{'программирование'}\n"
     ]
    }
   ],
   "source": [
    "#работа с множествами\n",
    "scrapburding = \"скрапбурдинг\"\n",
    "swimming = \"плавание\"\n",
    "reading = \"чтение\"\n",
    "cycling = \"катание на велосипеде\"\n",
    "traveling = \"путешествия\"\n",
    "watching_movies = \"просмотр фильмов и сериалов\"\n",
    "board_games = \"настольные игры\"\n",
    "coding = \"программирование\"\n",
    "\n",
    "tanya_hobies = set([scrapburding, swimming, reading, cycling, traveling, board_games, watching_movies])\n",
    "anton_hobies = set([swimming, reading, cycling, traveling, board_games, watching_movies, coding])\n",
    "\n",
    "print(\"Танины хобби:\")\n",
    "print(tanya_hobies)\n",
    "print(\"Антона хобби:\")\n",
    "print(anton_hobies)\n",
    "\n",
    "print(\"Наши общие хобби:\")\n",
    "print(tanya_hobies.intersection(anton_hobies))\n",
    "\n",
    "print(\"Танины уникальные хобби:\")\n",
    "print(tanya_hobies.difference(anton_hobies))\n",
    "\n",
    "print(\"Антона уникальные хобби:\")\n",
    "print(anton_hobies.difference(tanya_hobies))\n"
   ]
  },
  {
   "cell_type": "code",
   "execution_count": null,
   "metadata": {},
   "outputs": [],
   "source": []
  },
  {
   "cell_type": "code",
   "execution_count": null,
   "metadata": {},
   "outputs": [],
   "source": []
  },
  {
   "cell_type": "code",
   "execution_count": null,
   "metadata": {},
   "outputs": [],
   "source": []
  }
 ],
 "metadata": {
  "kernelspec": {
   "display_name": "Python 3",
   "language": "python",
   "name": "python3"
  },
  "language_info": {
   "codemirror_mode": {
    "name": "ipython",
    "version": 3
   },
   "file_extension": ".py",
   "mimetype": "text/x-python",
   "name": "python",
   "nbconvert_exporter": "python",
   "pygments_lexer": "ipython3",
   "version": "3.7.1"
  }
 },
 "nbformat": 4,
 "nbformat_minor": 2
}
