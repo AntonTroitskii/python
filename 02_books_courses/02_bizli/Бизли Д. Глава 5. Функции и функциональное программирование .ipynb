{
 "cells": [
  {
   "cell_type": "code",
   "execution_count": 11,
   "metadata": {},
   "outputs": [],
   "source": [
    "#инструкция def\n",
    "\n",
    "\n"
   ]
  },
  {
   "cell_type": "code",
   "execution_count": 12,
   "metadata": {},
   "outputs": [
    {
     "data": {
      "text/plain": [
       "10"
      ]
     },
     "execution_count": 12,
     "metadata": {},
     "output_type": "execute_result"
    }
   ],
   "source": [
    "a = 10\n",
    "def foo(x=a):\n",
    "    return x\n",
    "\n",
    "a = 5\n",
    "foo()"
   ]
  },
  {
   "cell_type": "code",
   "execution_count": 18,
   "metadata": {},
   "outputs": [
    {
     "name": "stdout",
     "output_type": "stream",
     "text": [
      "[1]\n",
      "[1, 2]\n",
      "[1, 2, 3]\n"
     ]
    }
   ],
   "source": [
    "# использваоине изменяемых аргументов в качестве значений по умолчанию\n",
    "def foo(x, items=[]):\n",
    "    items.append(x)\n",
    "    return items\n",
    "\n",
    "print(foo(1))\n",
    "print(foo(2))\n",
    "print(foo(3))"
   ]
  },
  {
   "cell_type": "code",
   "execution_count": 19,
   "metadata": {},
   "outputs": [
    {
     "name": "stdout",
     "output_type": "stream",
     "text": [
      "[1]\n",
      "[2]\n",
      "[3]\n"
     ]
    }
   ],
   "source": [
    "def foo(x, items=None):\n",
    "    if items is None:\n",
    "        items = []\n",
    "    items.append(x)\n",
    "    return items\n",
    "\n",
    "print(foo(1))\n",
    "print(foo(2))\n",
    "print(foo(3))"
   ]
  },
  {
   "cell_type": "code",
   "execution_count": 24,
   "metadata": {},
   "outputs": [
    {
     "name": "stdout",
     "output_type": "stream",
     "text": [
      "(6.5, 2)\n"
     ]
    }
   ],
   "source": [
    "def factor(a):\n",
    "        d = 2 \n",
    "        while (d <= ( a / 2)):\n",
    "            if ((a / d) * d == a):\n",
    "                return (( a / d), d)\n",
    "            d = d + 1\n",
    "        return (a, 1)\n",
    "\n",
    "print(factor(13))"
   ]
  },
  {
   "cell_type": "code",
   "execution_count": 27,
   "metadata": {},
   "outputs": [
    {
     "data": {
      "text/plain": [
       "'Привет мир'"
      ]
     },
     "execution_count": 27,
     "metadata": {},
     "output_type": "execute_result"
    }
   ],
   "source": [
    "# Функции как объекты и замыкания\n",
    "\n",
    "def callf(func):\n",
    "    return  func()\n",
    "    \n",
    "def helloworld():\n",
    "    return \"Привет мир\"\n",
    "\n",
    "callf(helloworld)\n",
    "\n"
   ]
  },
  {
   "cell_type": "code",
   "execution_count": null,
   "metadata": {},
   "outputs": [],
   "source": []
  }
 ],
 "metadata": {
  "kernelspec": {
   "display_name": "Python 3",
   "language": "python",
   "name": "python3"
  },
  "language_info": {
   "codemirror_mode": {
    "name": "ipython",
    "version": 3
   },
   "file_extension": ".py",
   "mimetype": "text/x-python",
   "name": "python",
   "nbconvert_exporter": "python",
   "pygments_lexer": "ipython3",
   "version": "3.7.5"
  }
 },
 "nbformat": 4,
 "nbformat_minor": 4
}
