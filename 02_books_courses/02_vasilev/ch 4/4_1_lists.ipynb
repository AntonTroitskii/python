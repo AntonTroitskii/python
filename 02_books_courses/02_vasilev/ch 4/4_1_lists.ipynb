{
 "cells": [
  {
   "cell_type": "code",
   "execution_count": 1,
   "metadata": {
    "collapsed": true
   },
   "outputs": [
    {
     "name": "stdout",
     "output_type": "stream",
     "text": [
      "[1, 2, 3, 4]\n"
     ]
    }
   ],
   "source": [
    "# Генерация списков\n",
    "list_ = [i for i in range(1, 5)]\n",
    "\n",
    "print(list_)"
   ]
  },
  {
   "cell_type": "code",
   "execution_count": 2,
   "metadata": {
    "collapsed": false,
    "pycharm": {
     "name": "#%%\n"
    }
   },
   "outputs": [
    {
     "name": "stdout",
     "output_type": "stream",
     "text": [
      "[22, 50, 78, 106, 134]\n"
     ]
    }
   ],
   "source": [
    "list_2 = [7 * i + 1 for i in range(20) if i % 4 == 3]\n",
    "print(list_2)"
   ]
  },
  {
   "cell_type": "code",
   "execution_count": 3,
   "metadata": {
    "collapsed": false,
    "pycharm": {
     "name": "#%%\n"
    }
   },
   "outputs": [
    {
     "name": "stdout",
     "output_type": "stream",
     "text": [
      "[0, 1, 2, 3, 4] [0, 1]\n",
      "[0, 1, 2, 3, 4] [10, 1]\n"
     ]
    }
   ],
   "source": [
    "t1 = [i for i in range(5)]\n",
    "t2 = t1[0:2]\n",
    "print(t1, t2)\n",
    "\n",
    "# Изначальный список не меняется.\n",
    "# Т.е. новый список это не ссылки на знаечения старого?\n",
    "t2[0] = 10\n",
    "print(t1, t2)"
   ]
  },
  {
   "cell_type": "code",
   "execution_count": 4,
   "metadata": {
    "collapsed": false,
    "pycharm": {
     "name": "#%%\n"
    }
   },
   "outputs": [
    {
     "name": "stdout",
     "output_type": "stream",
     "text": [
      "[0, 1, 2, 3, 4, 5, 6, 7, 8, 9] [5, 6, 7, 8, 9]\n"
     ]
    }
   ],
   "source": [
    "k1 = [i for i in range(10)]\n",
    "k2 = k1[5:100]\n",
    "print(k1, k2)"
   ]
  },
  {
   "cell_type": "code",
   "execution_count": 5,
   "metadata": {
    "collapsed": false,
    "pycharm": {
     "name": "#%%\n"
    }
   },
   "outputs": [
    {
     "name": "stdout",
     "output_type": "stream",
     "text": [
      "[25, 15]\n",
      "[]\n"
     ]
    }
   ],
   "source": [
    "m = [i for i in range(1, 26) if i % 5 == 0 or i == 1]\n",
    "\n",
    "print(m[5:1:-2])\n",
    "\n",
    "print(m[5:-1:-1]) # первый индекс больше вотрого\n"
   ]
  },
  {
   "cell_type": "markdown",
   "metadata": {},
   "source": [
    "# Копирование и присваивание списков\n"
   ]
  },
  {
   "cell_type": "markdown",
   "metadata": {},
   "source": [
    "Listing 4.4"
   ]
  },
  {
   "cell_type": "code",
   "execution_count": 33,
   "metadata": {},
   "outputs": [
    {
     "name": "stdout",
     "output_type": "stream",
     "text": [
      "Список a [10, 90000, 30]\n",
      "id(a) 2880245109568\n",
      "id(a[1]) 2880245147376\n",
      "Список b [10, 90000, 30]\n",
      "id(b) 2880245109568\n",
      "id(b[1]) 2880245147376\n",
      "Список c [10, 90000, 30]\n",
      "id(c) 2880245016512\n",
      "id(c[1]) 2880245147376\n",
      "Список d [10, 90000, 30]\n",
      "id(d) 2880258009216\n",
      "id(d[1]) 2880245147376\n",
      "\n",
      "a[1] = 0\n",
      "Список a [10, 0, 30]\n",
      "id(a) 2880245109568\n",
      "id(a[1]) 2880169535760\n",
      "Список b [10, 0, 30]\n",
      "id(b) 2880245109568\n",
      "id(b[1]) 2880169535760\n",
      "Список c [10, 90000, 30]\n",
      "id(c) 2880245016512\n",
      "id(c[1]) 2880245147376\n",
      "Список d [10, 90000, 30]\n",
      "id(d) 2880258009216\n",
      "id(d[1]) 2880245147376\n",
      "\n",
      "с[1] = 1, d[1] = 1\n",
      "Список a [10, 0, 30]\n",
      "id(a) 2880245109568\n",
      "id(a[1]) 2880169535760\n",
      "Список b [10, 0, 30]\n",
      "id(b) 2880245109568\n",
      "id(b[1]) 2880169535760\n",
      "Список c [10, 1000, 30]\n",
      "id(c) 2880245016512\n",
      "id(c[1]) 2880245147888\n",
      "Список d [10, 2000, 30]\n",
      "id(d) 2880258009216\n",
      "id(d[1]) 2880245147856\n"
     ]
    }
   ],
   "source": [
    "def print_list(_name, _list):\n",
    "    print(\"Список\", _name, _list)\n",
    "\n",
    "\n",
    "a = [10, 90000, 30]\n",
    "\n",
    "b = a\n",
    "c = a[:]\n",
    "d = a.copy()\n",
    "\n",
    "print_list(\"a\", a)\n",
    "print('id(a)',id(a))\n",
    "print('id(a[1])',id(a[1]))\n",
    "print_list(\"b\", b)\n",
    "print('id(b)',id(b))\n",
    "print('id(b[1])',id(b[1]))\n",
    "print_list(\"c\", c)\n",
    "print('id(c)',id(c))\n",
    "print('id(c[1])',id(c[1]))\n",
    "print_list(\"d\", d)\n",
    "print('id(d)',id(d))\n",
    "print('id(d[1])',id(d[1]))\n",
    "print()\n",
    "\n",
    "a[1] = 0\n",
    "print(\"a[1] = 0\")\n",
    "\n",
    "print_list(\"a\", a)\n",
    "print('id(a)',id(a))\n",
    "print('id(a[1])',id(a[1]))\n",
    "print_list(\"b\", b)\n",
    "print('id(b)',id(b))\n",
    "print('id(b[1])',id(b[1]))\n",
    "print_list(\"c\", c)\n",
    "print('id(c)',id(c))\n",
    "print('id(c[1])',id(c[1]))\n",
    "print_list(\"d\", d)\n",
    "print('id(d)',id(d))\n",
    "print('id(d[1])',id(d[1]))\n",
    "print()\n",
    "\n",
    "c[1] = 1000\n",
    "d[1] = 2000\n",
    "print('с[1] = 1, d[1] = 1')\n",
    "\n",
    "print_list(\"a\", a)\n",
    "print('id(a)',id(a))\n",
    "print('id(a[1])',id(a[1]))\n",
    "print_list(\"b\", b)\n",
    "print('id(b)',id(b))\n",
    "print('id(b[1])',id(b[1]))\n",
    "print_list(\"c\", c)\n",
    "print('id(c)',id(c))\n",
    "print('id(c[1])',id(c[1]))\n",
    "print_list(\"d\", d)\n",
    "print('id(d)',id(d))\n",
    "print('id(d[1])',id(d[1]))"
   ]
  },
  {
   "cell_type": "markdown",
   "metadata": {},
   "source": [
    "Видно, что при при и использовании операции [:] или метода copy() создаются копии исходного списка."
   ]
  },
  {
   "cell_type": "markdown",
   "metadata": {},
   "source": [
    "Элемент х[2] - это третий с начала элемент списка х. \n",
    "\n",
    "Легко заметить, что данный элемент сам является списком: это список [100, 200] , состоящий из двух элемен­тов. Для нас важно то, что х [2] - это список. Поэтому выражение х [2] [1] явля­ется ссылкой на элемент с индексом 1 в списке х [2] . Легко понять, что речь идето втором элементе в списке [100, 200], то есть элементе со значением 200. Поэ­тому командой х [2] [1], то в списке [100, 200] (который сам является элементомсписка х), значение 200 меняется на значение 0.\n",
    "\n",
    "Выражение х [4] является ссылкой н а элемент [300, 400] списка х: Данный эле­мент также является списком. Командой х[4]=0 ему в качестве значения вместо ссылки на список присваивается число."
   ]
  },
  {
   "cell_type": "markdown",
   "metadata": {},
   "source": [
    "Listing 4.5"
   ]
  },
  {
   "cell_type": "code",
   "execution_count": 23,
   "metadata": {},
   "outputs": [
    {
     "name": "stdout",
     "output_type": "stream",
     "text": [
      "Список x [10, 20, [100, 200], 30, [300, 400]]\n",
      "id(x) 2880245192256\n",
      "id(x[0]) 2880169536080\n",
      "Список y [10, 20, [100, 200], 30, [300, 400]]\n",
      "id(y) 2880245403328\n",
      "id(y[0]) 2880169536080\n",
      "Список z [10, 20, [100, 200], 30, [300, 400]]\n",
      "id(z) 2880258009920\n",
      "id(z[0]) 2880169536080\n",
      "\n",
      "x[2][1] = 0\n",
      "x[4] = 0\n",
      "Список x [10, 20, [100, 0], 30, 0]\n",
      "Список y [10, 20, [100, 0], 30, [300, 400]]\n",
      "Список z [10, 20, [100, 0], 30, [300, 400]]\n"
     ]
    }
   ],
   "source": [
    "def print_list(_name, _list):\n",
    "    print(\"Список\", _name, _list)\n",
    "\n",
    "\n",
    "x = [10, 20, [100, 200],  30, [300, 400]]\n",
    "\n",
    "y = x[:]\n",
    "z = x.copy()\n",
    "\n",
    "print_list(\"x\", x)\n",
    "print('id(x)', id(x))\n",
    "print('id(x[0])', id(x[0]))\n",
    "\n",
    "print_list(\"y\", y)\n",
    "print('id(y)', id(y))\n",
    "print('id(y[0])', id(y[0]))\n",
    "\n",
    "print_list(\"z\", z)\n",
    "print('id(z)', id(z))\n",
    "print('id(z[0])', id(z[0]))\n",
    "\n",
    "print()\n",
    "\n",
    "x[2][1] = 0\n",
    "x[4] = 0\n",
    "print(\"x[2][1] = 0\")\n",
    "print(\"x[4] = 0\")\n",
    "\n",
    "print_list(\"x\", x)\n",
    "print_list(\"y\", y)\n",
    "print_list(\"z\", z)"
   ]
  },
  {
   "cell_type": "markdown",
   "metadata": {},
   "source": [
    "Listing 4.6"
   ]
  },
  {
   "cell_type": "code",
   "execution_count": null,
   "metadata": {},
   "outputs": [
    {
     "name": "stdout",
     "output_type": "stream",
     "text": [
      "Список A [[10, 20], [[30, 40], [50, 60]]]\n",
      "Список B [[10, 20], [[30, 40], [50, 60]]]\n",
      "A[0][1] = 0\n",
      "A[1][1][1] = 0\n",
      "Список A [[10, 0], [[30, 40], [50, 0]]]\n",
      "Список B [[10, 20], [[30, 40], [50, 60]]]\n"
     ]
    }
   ],
   "source": [
    "import copy\n",
    "\n",
    "\n",
    "def print_list(_name, _list):\n",
    "    print(\"Список\", _name, _list)\n",
    "\n",
    "\n",
    "A = [[10, 20], [[30, 40], [50, 60]]]\n",
    "\n",
    "B = copy.deepcopy(A)\n",
    "\n",
    "print_list(\"A\", A)\n",
    "print_list(\"B\", B)\n",
    "\n",
    "A[0][1] = 0\n",
    "A[1][1][1] = 0\n",
    "print(\"A[0][1] = 0\")\n",
    "print(\"A[1][1][1] = 0\")\n",
    "\n",
    "print_list(\"A\", A)\n",
    "print_list(\"B\", B)"
   ]
  }
 ],
 "metadata": {
  "kernelspec": {
   "display_name": "Python 3",
   "language": "python",
   "name": "python3"
  },
  "language_info": {
   "codemirror_mode": {
    "name": "ipython",
    "version": 3
   },
   "file_extension": ".py",
   "mimetype": "text/x-python",
   "name": "python",
   "nbconvert_exporter": "python",
   "pygments_lexer": "ipython3",
   "version": "3.9.4"
  }
 },
 "nbformat": 4,
 "nbformat_minor": 0
}
