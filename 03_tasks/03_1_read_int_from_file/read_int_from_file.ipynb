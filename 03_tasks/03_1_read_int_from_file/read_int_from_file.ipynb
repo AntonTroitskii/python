{
 "cells": [
  {
   "cell_type": "markdown",
   "metadata": {},
   "source": [
    "Генерируем файл"
   ]
  },
  {
   "cell_type": "code",
   "execution_count": 43,
   "metadata": {},
   "outputs": [],
   "source": [
    "import random\n",
    "\n",
    "int_ar = []\n",
    "number = 1000*1000\n",
    "with open(\"input.txt\", 'w') as file:\n",
    "\n",
    "    for _ in range(number):\n",
    "        a = round(random.random() * 1000)\n",
    "        int_ar.append(a)\n",
    "\n",
    "    int_ar.sort()\n",
    "\n",
    "    file.write(str(number) + '\\n')\n",
    "    for i in int_ar:\n",
    "        file.write(str(i) + \"\\n\")"
   ]
  },
  {
   "cell_type": "markdown",
   "metadata": {},
   "source": [
    "Обрабоатываем файл"
   ]
  },
  {
   "cell_type": "code",
   "execution_count": 44,
   "metadata": {},
   "outputs": [],
   "source": [
    "with open(\"input.txt\", 'r') as input_file:\n",
    "    with open(\"output.txt\", 'w') as ouput_file:\n",
    "\n",
    "        n = int(input_file.readline())\n",
    "        \n",
    "        number = int(input_file.readline())\n",
    "        \n",
    "        for _ in range(n-1):\n",
    "        \n",
    "            temp_number = int(input_file.readline())\n",
    "        \n",
    "            if (temp_number != number):    \n",
    "                ouput_file.write(str(number) + '\\n')\n",
    "                number = temp_number"
   ]
  },
  {
   "cell_type": "code",
   "execution_count": 46,
   "metadata": {},
   "outputs": [
    {
     "name": "stdout",
     "output_type": "stream",
     "text": [
      "208\n"
     ]
    }
   ],
   "source": [
    "with open(\"input.txt\", 'r') as file:\n",
    "    import sys\n",
    "    print(sys.getsizeof(file))"
   ]
  },
  {
   "cell_type": "code",
   "execution_count": 50,
   "metadata": {},
   "outputs": [
    {
     "name": "stdout",
     "output_type": "stream",
     "text": [
      "208\n",
      "208\n"
     ]
    }
   ],
   "source": [
    "with open(\"output.txt\", 'r') as file:\n",
    "    import sys\n",
    "    print(sys.getsizeof(file))\n",
    "    for i in range(10):\n",
    "        file.readline()\n",
    "    print(sys.getsizeof(file))\n",
    "    "
   ]
  },
  {
   "cell_type": "code",
   "execution_count": 73,
   "metadata": {},
   "outputs": [
    {
     "data": {
      "text/plain": [
       "-32768"
      ]
     },
     "execution_count": 73,
     "metadata": {},
     "output_type": "execute_result"
    }
   ],
   "source": [
    "- (1  << 16) // 2"
   ]
  },
  {
   "cell_type": "code",
   "execution_count": 68,
   "metadata": {},
   "outputs": [
    {
     "data": {
      "text/plain": [
       "4294967296"
      ]
     },
     "execution_count": 68,
     "metadata": {},
     "output_type": "execute_result"
    }
   ],
   "source": [
    "1 << 32\n"
   ]
  },
  {
   "cell_type": "code",
   "execution_count": null,
   "metadata": {},
   "outputs": [],
   "source": []
  }
 ],
 "metadata": {
  "interpreter": {
   "hash": "195639eb6f618b13be22f0eae017da4095bdfd34377926e01fad967ce145dfe7"
  },
  "kernelspec": {
   "display_name": "Python 3.9.4 64-bit ('_data-tejYZFn8': virtualenv)",
   "language": "python",
   "name": "python3"
  },
  "language_info": {
   "codemirror_mode": {
    "name": "ipython",
    "version": 3
   },
   "file_extension": ".py",
   "mimetype": "text/x-python",
   "name": "python",
   "nbconvert_exporter": "python",
   "pygments_lexer": "ipython3",
   "version": "3.9.4"
  },
  "orig_nbformat": 4
 },
 "nbformat": 4,
 "nbformat_minor": 2
}
