{
 "cells": [
  {
   "cell_type": "code",
   "execution_count": 5,
   "metadata": {},
   "outputs": [
    {
     "output_type": "stream",
     "name": "stdout",
     "text": "[1, 2, 3]\n"
    }
   ],
   "source": [
    "a = map(int, input().split())\n",
    "print(list(a))"
   ]
  },
  {
   "cell_type": "code",
   "execution_count": 16,
   "metadata": {},
   "outputs": [
    {
     "output_type": "execute_result",
     "data": {
      "text/plain": "(1.5707963267948966, 2.4365658100345553)"
     },
     "metadata": {},
     "execution_count": 16
    }
   ],
   "source": [
    "import math\n",
    "math.pi/2, 2*math.atan(math.e)"
   ]
  },
  {
   "cell_type": "code",
   "execution_count": 18,
   "metadata": {},
   "outputs": [
    {
     "output_type": "stream",
     "name": "stdout",
     "text": "1.818232125777328\n8.101417432956914\n14.3846027401365\n20.667788047316087\n26.950973354495673\n33.23415866167526\n39.517343968854846\n45.80052927603443\n52.08371458321402\n58.366899890393604\n"
    }
   ],
   "source": [
    "for i in range(10):\n",
    "    print(2*(math.pi * i + math.atan(math.pow(math.e, 1/4))))"
   ]
  },
  {
   "cell_type": "code",
   "execution_count": 106,
   "metadata": {},
   "outputs": [
    {
     "output_type": "stream",
     "name": "stdout",
     "text": "5\n1 2 3 2 1 \n"
    }
   ],
   "source": [
    "# test 01\n",
    "\n",
    "# 10\n",
    "# 1 1 5 2 4 3 3 4 2 5\n",
    "# output\n",
    "# 5\n",
    "# 1 5 2 4 3\n",
    "\n",
    "# test 02\n",
    "# 10\n",
    "# 1 2 3 3 2 1 4 1 2 0\n",
    "# output\n",
    "# 5\n",
    "# 1 2 3 2 1\n",
    "\n",
    "n = int(input())\n",
    "a = list(map(int, input().split()))\n",
    "res = []\n",
    "\n",
    "for i in range(0, n):\n",
    "    count_ = a.count(a[i])\n",
    "    if (count_ > 0) and (a[i+1:].count(a[i]) > 0):\n",
    "        res.append(a[i])\n",
    "\n",
    "print(len(res))\n",
    "res_str = ''\n",
    "for i in res:\n",
    "    res_str += '{} '.format(i) \n",
    "print(res_str)"
   ]
  },
  {
   "cell_type": "code",
   "execution_count": 107,
   "metadata": {},
   "outputs": [
    {
     "output_type": "error",
     "ename": "ValueError",
     "evalue": "invalid literal for int() with base 10: ''",
     "traceback": [
      "\u001b[1;31m---------------------------------------------------------------------------\u001b[0m",
      "\u001b[1;31mValueError\u001b[0m                                Traceback (most recent call last)",
      "\u001b[1;32m<ipython-input-107-ce27900a36ce>\u001b[0m in \u001b[0;36m<module>\u001b[1;34m\u001b[0m\n\u001b[0;32m     14\u001b[0m \u001b[1;31m# 1 2 3 2 1\u001b[0m\u001b[1;33m\u001b[0m\u001b[1;33m\u001b[0m\u001b[1;33m\u001b[0m\u001b[0m\n\u001b[0;32m     15\u001b[0m \u001b[1;33m\u001b[0m\u001b[0m\n\u001b[1;32m---> 16\u001b[1;33m \u001b[0mn\u001b[0m \u001b[1;33m=\u001b[0m \u001b[0mint\u001b[0m\u001b[1;33m(\u001b[0m\u001b[0minput\u001b[0m\u001b[1;33m(\u001b[0m\u001b[1;33m)\u001b[0m\u001b[1;33m)\u001b[0m\u001b[1;33m\u001b[0m\u001b[1;33m\u001b[0m\u001b[0m\n\u001b[0m\u001b[0;32m     17\u001b[0m \u001b[0ma\u001b[0m \u001b[1;33m=\u001b[0m \u001b[0mlist\u001b[0m\u001b[1;33m(\u001b[0m\u001b[0mmap\u001b[0m\u001b[1;33m(\u001b[0m\u001b[0mint\u001b[0m\u001b[1;33m,\u001b[0m \u001b[0minput\u001b[0m\u001b[1;33m(\u001b[0m\u001b[1;33m)\u001b[0m\u001b[1;33m.\u001b[0m\u001b[0msplit\u001b[0m\u001b[1;33m(\u001b[0m\u001b[1;33m)\u001b[0m\u001b[1;33m)\u001b[0m\u001b[1;33m)\u001b[0m\u001b[1;33m\u001b[0m\u001b[1;33m\u001b[0m\u001b[0m\n\u001b[0;32m     18\u001b[0m \u001b[0mres\u001b[0m \u001b[1;33m=\u001b[0m \u001b[1;33m[\u001b[0m\u001b[1;33m]\u001b[0m\u001b[1;33m\u001b[0m\u001b[1;33m\u001b[0m\u001b[0m\n",
      "\u001b[1;31mValueError\u001b[0m: invalid literal for int() with base 10: ''"
     ]
    }
   ],
   "source": [
    "# test 01\n",
    "\n",
    "# 10\n",
    "# 1 1 5 2 4 3 3 4 2 5\n",
    "# output\n",
    "# 5\n",
    "# 1 5 2 4 3\n",
    "\n",
    "# test 02\n",
    "# 10\n",
    "# 1 2 3 3 2 1 4 1 2 0\n",
    "# output\n",
    "# 5\n",
    "# 1 2 3 2 1\n",
    "\n",
    "n = int(input())\n",
    "a = list(map(int, input().split()))\n",
    "res = []\n",
    "\n",
    "for i in range(0, n):\n",
    "    count_ = a.count(a[i])\n",
    "    if not ((count_ > 0) and (a[i+1:].count(a[i]) > 0)):\n",
    "        a.pop(i)\n",
    "\n",
    "print(len(a))\n",
    "res_str = ''\n",
    "for i in a:\n",
    "    res_str += '{} '.format(i) \n",
    "print(res_str)"
   ]
  },
  {
   "cell_type": "markdown",
   "metadata": {},
   "source": [
    "Формат ввода\n",
    "В первой строке входных данных записано число n (1 ≤ n ≤ 300 000).\n",
    "\n",
    "Во второй строке записаны n вещественных чисел ai (0.01 ≤ ai ≤ 100) с двумя десятичными знаками.\n",
    "\n",
    "В третьей строке входных данных записано число q (1 ≤ q ≤ 100 000) — количество запросов.\n",
    "\n",
    "Далее в q строках записано по два целых числа li и ri (0 ≤ li ≤ ri < n) — i-й запрос на вычисление среднего."
   ]
  },
  {
   "cell_type": "code",
   "execution_count": 103,
   "metadata": {},
   "outputs": [
    {
     "output_type": "stream",
     "name": "stdout",
     "text": "79.020000\n53.837288\n61.391865\n64.756970\n69.986085\n65.913194\n63.352986\n66.369195\n64.735454\n71.164108\n"
    }
   ],
   "source": [
    "# test 01\n",
    "# 8\n",
    "# 79.02 36.68 79.83 76.00 95.48 48.84 49.95 91.91\n",
    "# 10\n",
    "# 0 0\n",
    "# 0 1\n",
    "# 0 2\n",
    "# 0 3\n",
    "# 0 4\n",
    "# 0 5\n",
    "# 0 6\n",
    "# 0 7\n",
    "# 1 7\n",
    "# 2 7\n",
    "\n",
    "# test 02\n",
    "# 1\n",
    "# 1.00\n",
    "# 1\n",
    "# 0 0\n",
    "\n",
    "\n",
    "# test 03\n",
    "# 8\n",
    "# 1.34 1.37 1.40 1.44 1.91 1.95 1.96 1.97\n",
    "# 5\n",
    "# 1 4\n",
    "# 2 7\n",
    "# 4 6\n",
    "# 0 3\n",
    "# 2 6\n",
    "\n",
    "n = int(input())\n",
    "a = list(map(float, input().split()))\n",
    "q = int(input())\n",
    "l_r_list = []\n",
    "for i in range(0, q):\n",
    "    l_r_list.append(list(map(int, input().split())))\n",
    "\n",
    "\n",
    "for i in l_r_list:\n",
    "    l = i[0]\n",
    "    r = i[1]\n",
    "    res = 1\n",
    "    for j in range(l, r+1):\n",
    "        res *= a[j]\n",
    "    print('{:f}'.format(res**(1/(r-l+1))))\n"
   ]
  },
  {
   "cell_type": "code",
   "execution_count": 94,
   "metadata": {},
   "outputs": [
    {
     "output_type": "stream",
     "name": "stdout",
     "text": "[1, 2, 3, 4]\n1\n2\n3\n4\n"
    }
   ],
   "source": [
    "a = [1, 2, 3, 4]\n",
    "print(a)\n",
    "res = '\n",
    "\n",
    "\n",
    "'\n",
    "for i in a:\n",
    "    print(i)"
   ]
  },
  {
   "cell_type": "code",
   "execution_count": null,
   "metadata": {},
   "outputs": [],
   "source": []
  }
 ],
 "metadata": {
  "language_info": {
   "codemirror_mode": {
    "name": "ipython",
    "version": 3
   },
   "file_extension": ".py",
   "mimetype": "text/x-python",
   "name": "python",
   "nbconvert_exporter": "python",
   "pygments_lexer": "ipython3",
   "version": "3.7.7-final"
  },
  "orig_nbformat": 2,
  "kernelspec": {
   "name": "python3",
   "display_name": "Python 3"
  }
 },
 "nbformat": 4,
 "nbformat_minor": 2
}