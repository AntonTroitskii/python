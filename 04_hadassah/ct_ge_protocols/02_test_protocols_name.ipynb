{
 "cells": [
  {
   "cell_type": "code",
   "execution_count": 42,
   "metadata": {},
   "outputs": [
    {
     "data": {
      "text/plain": [
       "'ADULT HEAD\\\\s\\\\d{1,2}\\\\.\\\\d{1,2}.+|ADULT ORBIT\\\\s\\\\d{1,2}\\\\.\\\\d{1,2}.+|ADULT CSPINE\\\\s\\\\d{1,2}\\\\.\\\\d{1,2}.+|ADULT SHOULDER\\\\s\\\\d{1,2}\\\\.\\\\d{1,2}.+|ADULT CHEST\\\\s\\\\d{1,2}\\\\.\\\\d{1,2}.+|ADULT ABDOMEN\\\\s\\\\d{1,2}\\\\.\\\\d{1,2}.+|ADULT LUMBAR\\\\s\\\\d{1,2}\\\\.\\\\d{1,2}.+|ADULT PELVIS\\\\s\\\\d{1,2}\\\\.\\\\d{1,2}.+|ADULT LOWER EXTREMITY\\\\s\\\\d{1,2}\\\\.\\\\d{1,2}.+|ADULT MISCELLANEOUS\\\\s\\\\d{1,2}\\\\.\\\\d{1,2}.+'"
      ]
     },
     "execution_count": 42,
     "metadata": {},
     "output_type": "execute_result"
    }
   ],
   "source": [
    "import re\n",
    "\n",
    "ANATOMY_LIST = ['ADULT HEAD', 'ADULT ORBIT', 'ADULT CSPINE', 'ADULT SHOULDER', 'ADULT CHEST',\n",
    "                'ADULT ABDOMEN', 'ADULT LUMBAR', 'ADULT PELVIS', 'ADULT LOWER EXTREMITY', 'ADULT MISCELLANEOUS']\n",
    "\n",
    "\n",
    "PROTOCOL_NAME_ADULT_HEAD_PATTERN = r\"^ADULT HEAD\\s\\d{1,2}\\.\\d{1,2}.+\"\n",
    "\n",
    "ANATOMY_PATTERN_LIST = list(\n",
    "    map(lambda x: x + r'\\s\\d{1,2}\\.\\d{1,2}.+', ANATOMY_LIST))\n",
    "ANATOMY_PATTERN = '|'.join(ANATOMY_PATTERN_LIST)\n",
    "ANATOMY_PATTERN\n"
   ]
  },
  {
   "cell_type": "code",
   "execution_count": 46,
   "metadata": {},
   "outputs": [
    {
     "name": "stdout",
     "output_type": "stream",
     "text": [
      "<re.Match object; span=(0, 38), match='ADULT ORBIT 2.16 Sinus Supine  Helical'>\n"
     ]
    }
   ],
   "source": [
    "TEXT = \"ADULT HEAD 1.1 Head (adult) 1.25\"\n",
    "TEXT = 'ADULT ORBIT 2.16 Sinus Supine  Helical'\n",
    "\n",
    "\n",
    "match = re.match(ANATOMY_PATTERN, TEXT)\n",
    "print(match)"
   ]
  },
  {
   "cell_type": "code",
   "execution_count": 50,
   "metadata": {},
   "outputs": [
    {
     "data": {
      "text/plain": [
       "True"
      ]
     },
     "execution_count": 50,
     "metadata": {},
     "output_type": "execute_result"
    }
   ],
   "source": [
    "from pathlib import Path\n",
    "\n",
    "protocols_path = Path('protocols_lists') / '2022-04-18- GE. Discovery.protocols_list.csv'\n",
    "\n",
    "with open(protocols_path, 'r') as file:\n",
    "    lines = file.readlines()\n",
    "\n",
    "TEST = []\n",
    "\n",
    "for line in lines:\n",
    "    TEST.append(bool(re.match(ANATOMY_PATTERN, line)))\n",
    "\n",
    "any(TEST)"
   ]
  }
 ],
 "metadata": {
  "interpreter": {
   "hash": "5a1cbdab116974a528a960ffa0dfc1cd96d0c010a0aa0c7269f61cf1f120b5b6"
  },
  "kernelspec": {
   "display_name": "Python 3.9.4 ('_data-tejYZFn8')",
   "language": "python",
   "name": "python3"
  },
  "language_info": {
   "codemirror_mode": {
    "name": "ipython",
    "version": 3
   },
   "file_extension": ".py",
   "mimetype": "text/x-python",
   "name": "python",
   "nbconvert_exporter": "python",
   "pygments_lexer": "ipython3",
   "version": "3.9.4"
  },
  "orig_nbformat": 4
 },
 "nbformat": 4,
 "nbformat_minor": 2
}
